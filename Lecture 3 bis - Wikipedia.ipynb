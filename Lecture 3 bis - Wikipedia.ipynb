{
 "cells": [
  {
   "cell_type": "code",
   "execution_count": 1,
   "metadata": {},
   "outputs": [],
   "source": [
    "import warnings\n",
    "warnings.filterwarnings(\"ignore\")"
   ]
  },
  {
   "cell_type": "code",
   "execution_count": 2,
   "metadata": {},
   "outputs": [],
   "source": [
    "!export PATH=~/anaconda3/bin:$PATH"
   ]
  },
  {
   "cell_type": "code",
   "execution_count": 3,
   "metadata": {},
   "outputs": [
    {
     "name": "stdout",
     "output_type": "stream",
     "text": [
      "Requirement already satisfied: wikipedia in /Users/issouani/anaconda3/lib/python3.11/site-packages (1.4.0)\r\n",
      "Requirement already satisfied: beautifulsoup4 in /Users/issouani/anaconda3/lib/python3.11/site-packages (from wikipedia) (4.12.2)\r\n",
      "Requirement already satisfied: requests<3.0.0,>=2.0.0 in /Users/issouani/anaconda3/lib/python3.11/site-packages (from wikipedia) (2.31.0)\r\n",
      "Requirement already satisfied: charset-normalizer<4,>=2 in /Users/issouani/anaconda3/lib/python3.11/site-packages (from requests<3.0.0,>=2.0.0->wikipedia) (2.0.4)\r\n",
      "Requirement already satisfied: idna<4,>=2.5 in /Users/issouani/anaconda3/lib/python3.11/site-packages (from requests<3.0.0,>=2.0.0->wikipedia) (3.4)\r\n",
      "Requirement already satisfied: urllib3<3,>=1.21.1 in /Users/issouani/anaconda3/lib/python3.11/site-packages (from requests<3.0.0,>=2.0.0->wikipedia) (1.26.16)\r\n",
      "Requirement already satisfied: certifi>=2017.4.17 in /Users/issouani/anaconda3/lib/python3.11/site-packages (from requests<3.0.0,>=2.0.0->wikipedia) (2023.11.17)\r\n",
      "Requirement already satisfied: soupsieve>1.2 in /Users/issouani/anaconda3/lib/python3.11/site-packages (from beautifulsoup4->wikipedia) (2.4)\r\n"
     ]
    }
   ],
   "source": [
    "!pip3 install wikipedia"
   ]
  },
  {
   "cell_type": "code",
   "execution_count": 4,
   "metadata": {},
   "outputs": [],
   "source": [
    "import wikipedia"
   ]
  },
  {
   "cell_type": "code",
   "execution_count": 5,
   "metadata": {},
   "outputs": [
    {
     "name": "stdout",
     "output_type": "stream",
     "text": [
      "The Wikimedia Foundation, Inc., abbreviated WMF, is an American 501(c)(3) nonprofit organization headquartered in San Francisco, California, and registered there as a charitable foundation. It is the host of Wikipedia, the seventh most visited website in the world. It also hosts fourteen related open collaboration projects, and supports the development of MediaWiki, the wiki software which underpins them all. The foundation was established in 2003 in St. Petersburg, Florida by Jimmy Wales, as a non-profit way to fund Wikipedia and other wiki projects which had previously been hosted by Bomis, Wales' for-profit company.\n",
      "The Wikimedia Foundation provides the technical and organizational infrastructure to enable members of the public to develop wiki-based content in languages across the world. The foundation does not write or curate any of the content on the projects themselves. Instead, this is done by volunteer editors, such as the Wikipedians. However, it does collaborate with a network of individual volunteers and affiliated organizations, such as Wikimedia chapters, thematic organizations, user groups and other partners.\n",
      "The foundation finances itself mainly through millions of small donations from readers and editors, collected through email campaigns and annual fundraising banners placed on Wikipedia and its sister projects. These are complemented by grants from philanthropic organizations and tech companies, and starting in 2022, by services income from Wikimedia Enterprise. As of 2023, it has employed over 700 staff and contractors, with net assets of $255 million and an endowment which has surpassed $100 million.\n"
     ]
    }
   ],
   "source": [
    "print(wikipedia.summary(\"Wikipedia\"))"
   ]
  },
  {
   "cell_type": "code",
   "execution_count": 6,
   "metadata": {},
   "outputs": [
    {
     "name": "stdout",
     "output_type": "stream",
     "text": [
      "France, officially the French Republic, is a country located primarily in Western Europe. Its overseas regions and territories include French Guiana in South America, Saint Pierre and Miquelon in the \n"
     ]
    }
   ],
   "source": [
    "print(wikipedia.summary(\"France\")[:200])"
   ]
  },
  {
   "cell_type": "code",
   "execution_count": 7,
   "metadata": {},
   "outputs": [
    {
     "data": {
      "text/plain": [
       "['Barack Obama',\n",
       " 'Barack Obama Sr.',\n",
       " 'Michelle Obama',\n",
       " 'Family of Barack Obama',\n",
       " 'Presidency of Barack Obama',\n",
       " 'Barack (name)',\n",
       " 'First inauguration of Barack Obama',\n",
       " 'Barack (disambiguation)',\n",
       " 'Early life and career of Barack Obama',\n",
       " 'Barack (brandy)']"
      ]
     },
     "execution_count": 7,
     "metadata": {},
     "output_type": "execute_result"
    }
   ],
   "source": [
    "wikipedia.search(\"Barack\")"
   ]
  },
  {
   "cell_type": "code",
   "execution_count": 8,
   "metadata": {},
   "outputs": [
    {
     "data": {
      "text/plain": [
       "'barack obama'"
      ]
     },
     "execution_count": 8,
     "metadata": {},
     "output_type": "execute_result"
    }
   ],
   "source": [
    "wikipedia.suggest(\"Barak Obama\")"
   ]
  },
  {
   "cell_type": "code",
   "execution_count": 9,
   "metadata": {},
   "outputs": [
    {
     "data": {
      "text/plain": [
       "['Ford Motor Company', 'Ford', 'Gerald Ford', 'Harrison Ford', 'Henry Ford']"
      ]
     },
     "execution_count": 9,
     "metadata": {},
     "output_type": "execute_result"
    }
   ],
   "source": [
    "wikipedia.search(\"Ford\", results=5)"
   ]
  },
  {
   "cell_type": "code",
   "execution_count": 10,
   "metadata": {},
   "outputs": [
    {
     "data": {
      "text/plain": [
       "['GitHub',\n",
       " 'GitHub Copilot',\n",
       " 'Timeline of GitHub',\n",
       " 'Censorship of GitHub',\n",
       " 'Markdown',\n",
       " 'Atom (text editor)',\n",
       " 'List of cryptocurrencies',\n",
       " 'UBlock Origin',\n",
       " 'JSON Web Token',\n",
       " 'List of file signatures']"
      ]
     },
     "execution_count": 10,
     "metadata": {},
     "output_type": "execute_result"
    }
   ],
   "source": [
    "wikipedia.search(\"github\")"
   ]
  },
  {
   "cell_type": "code",
   "execution_count": 11,
   "metadata": {},
   "outputs": [
    {
     "data": {
      "text/plain": [
       "'python'"
      ]
     },
     "execution_count": 11,
     "metadata": {},
     "output_type": "execute_result"
    }
   ],
   "source": [
    "wikipedia.suggest(\"pythn\")"
   ]
  },
  {
   "cell_type": "code",
   "execution_count": 12,
   "metadata": {},
   "outputs": [
    {
     "data": {
      "text/plain": [
       "['Python',\n",
       " 'Python (programming language)',\n",
       " 'Monty Python',\n",
       " 'Ball python',\n",
       " 'Python (codename)',\n",
       " 'Reticulated python',\n",
       " 'History of Python',\n",
       " 'Python (genus)',\n",
       " 'Burmese python',\n",
       " 'Colt Python']"
      ]
     },
     "execution_count": 12,
     "metadata": {},
     "output_type": "execute_result"
    }
   ],
   "source": [
    "wikipedia.search(\"python\")"
   ]
  },
  {
   "cell_type": "code",
   "execution_count": 13,
   "metadata": {},
   "outputs": [
    {
     "data": {
      "text/plain": [
       "'Python is a genus of constricting snakes in the Pythonidae family native to the tropics and subtropics of the Eastern Hemisphere.\\nThe name python was proposed by François Marie Daudin in 1803 for non-venomous flecked snakes.\\nCurrently, 10 python species are recognized as valid taxa.\\nThree formerly considered python subspecies have been promoted, and a new species recognized.\\n\\n'"
      ]
     },
     "execution_count": 13,
     "metadata": {},
     "output_type": "execute_result"
    }
   ],
   "source": [
    "wikipedia.summary(\"Python (genus)\")"
   ]
  },
  {
   "cell_type": "code",
   "execution_count": 15,
   "metadata": {},
   "outputs": [
    {
     "data": {
      "text/plain": [
       "'Apple II (\"apple two\") is a series of microcomputers manufactured by Apple Computer, Inc.'"
      ]
     },
     "execution_count": 15,
     "metadata": {},
     "output_type": "execute_result"
    }
   ],
   "source": [
    "wikipedia.summary(\"Apple III\", sentences=1)"
   ]
  },
  {
   "cell_type": "code",
   "execution_count": 16,
   "metadata": {},
   "outputs": [
    {
     "name": "stdout",
     "output_type": "stream",
     "text": [
      "['Mercury (planet)', 'Mercury (element)', 'Mercury (mythology)', 'Mercury (toy manufacturer)', 'Mercury Communications', 'Mercury Corporation', 'Mercury Cyclecar Company', 'Mercury Drug', 'Mercury Energy', 'Mercury Filmworks', 'Mercury General', 'Mercury Interactive', 'Mercury Marine', 'Mercury Systems', 'Mercury Technologies', 'Mercury Truck & Tractor Company', 'TP-Link', 'Mercury (programming language)', 'Mercury (metadata search system)', 'Ferranti Mercury', 'Mercury Browser', 'Mercury Mail Transport System', 'Mercury (film)', 'Mercury (TV series)', 'Mercury Black', 'Sailor Mercury', 'Mercury (Marvel Comics)', 'Makkari (comics)', 'Metal Men', \"Cerebro's X-Men\", 'Amalgam Comics character', 'Mercury (magazine)', 'The American Mercury', 'The Mercury (Hobart)', 'The Mercury (South Africa)', 'The Mercury (Pennsylvania)', 'Mercury (Newport)', 'Reading Mercury', 'The Mercury News', 'List of newspapers named Mercury', 'Mercury (Bova novel)', 'Mercury (Livesey novel)', 'Anna Kavan', 'Mercury Nashville', 'Mercury Records', 'Mercury Prize', 'Mercury, the Winged Messenger', 'Mercury (American Music Club album)', 'Mercury (Longview album)', 'Mercury (Madder Mortem album)', 'Mercury – Act 1', 'Mercury – Acts 1 & 2', '\"Mercury\" (song)', 'Recovering the Satellites', 'Failer', 'Planetarium', 'Gemini Rights', 'Operation Mercury', 'Boeing E-6 Mercury', 'Miles Mercury', 'HMS\\xa0Mercury', 'USS\\xa0Mercury', 'Russian brig\\xa0Mercury', 'Mercury (pigeon)', 'Mercury (name)', 'Mercury, Savoie', 'Mercury Bay', 'place in Alabama', 'Mercury, Nevada', 'Mercury, Texas', 'Mercury (plant)', 'Annual mercury', 'English mercury', 'Mercury FM', 'Mercury 96.6', 'Edmonton Mercurys', 'Fujita Soccer Club Mercury', 'Memphis Mercury', 'Phoenix Mercury', 'Toledo Mercurys', 'Mercury Theatre (disambiguation)', 'Blackburn Mercury', 'Bristol Mercury', 'Mercury (automobile)', 'List of Mercury vehicles', 'Mercury (cyclecar)', 'Mercury (train)', 'Mercury\\xa0(ship)', 'Cape Cod Mercury 15', 'Mercury 18', 'Project Mercury', 'Mercury (satellite)', \"Archer Maclean's Mercury\", 'Mercury (cipher machine)', 'Mercury Boulevard', 'Mercury Cinema', 'Shuttle America', 'The Mercury Mall', 'All pages with titles beginning with Mercury ', 'The American Mercury', 'Mercure (disambiguation)', 'Mercuri', 'Mercurius (disambiguation)', 'Mercury 1 (disambiguation)', 'Mercury 2 (disambiguation)', 'Mercury 3 (disambiguation)', 'Mercury 4 (disambiguation)', 'Mercury 5 (disambiguation)', 'Mercury 6 (disambiguation)', 'Mercury 7 (disambiguation)', 'Mercury 8 (disambiguation)', 'Mercury City (disambiguation)', 'Mercury FM (disambiguation)', 'Mercury House (disambiguation)', 'Mercury mission (disambiguation)', 'Mercury program (disambiguation)', 'Mercury project (disambiguation)', 'All pages with titles containing Mercury']\n"
     ]
    }
   ],
   "source": [
    "try:\n",
    "    mercury = wikipedia.summary(\"Mercury\")\n",
    "except wikipedia.exceptions.DisambiguationError as e:\n",
    "    print(e.options)"
   ]
  },
  {
   "cell_type": "code",
   "execution_count": 17,
   "metadata": {},
   "outputs": [
    {
     "data": {
      "text/plain": [
       "['New York',\n",
       " 'New York City',\n",
       " 'New York (state)',\n",
       " 'The New York Times',\n",
       " 'New York metropolitan area',\n",
       " 'Boroughs of New York City',\n",
       " 'Gangs of New York',\n",
       " 'List of United States representatives from New York',\n",
       " 'New York, New York (disambiguation)',\n",
       " 'New York Knicks']"
      ]
     },
     "execution_count": 17,
     "metadata": {},
     "output_type": "execute_result"
    }
   ],
   "source": [
    "wikipedia.search(\"New york\")"
   ]
  },
  {
   "cell_type": "code",
   "execution_count": 18,
   "metadata": {},
   "outputs": [],
   "source": [
    "ny = wikipedia.page(\"New York (City)\")"
   ]
  },
  {
   "cell_type": "code",
   "execution_count": 19,
   "metadata": {},
   "outputs": [
    {
     "name": "stdout",
     "output_type": "stream",
     "text": [
      "New York City\n"
     ]
    }
   ],
   "source": [
    "print(ny.title)"
   ]
  },
  {
   "cell_type": "code",
   "execution_count": 20,
   "metadata": {},
   "outputs": [
    {
     "name": "stdout",
     "output_type": "stream",
     "text": [
      "https://en.wikipedia.org/wiki/New_York_City\n"
     ]
    }
   ],
   "source": [
    "print(ny.url)"
   ]
  },
  {
   "cell_type": "code",
   "execution_count": 21,
   "metadata": {},
   "outputs": [
    {
     "name": "stdout",
     "output_type": "stream",
     "text": [
      "New York, often called New York City or NYC, is the most populous city in the United States, located at the southern tip of New York State on one of the world's largest natural harbors. The city compr\n"
     ]
    }
   ],
   "source": [
    "print(ny.content[:200])"
   ]
  },
  {
   "cell_type": "code",
   "execution_count": 22,
   "metadata": {},
   "outputs": [
    {
     "name": "stdout",
     "output_type": "stream",
     "text": [
      "https://upload.wikimedia.org/wikipedia/commons/3/3f/1232-42_Dean_Street_Crown_Heights.jpg\n"
     ]
    }
   ],
   "source": [
    "print(ny.images[0])"
   ]
  },
  {
   "cell_type": "code",
   "execution_count": 23,
   "metadata": {},
   "outputs": [
    {
     "data": {
      "text/plain": [
       "['116 John Street', '120 Wall Street', '125 Greenwich Street']"
      ]
     },
     "execution_count": 23,
     "metadata": {},
     "output_type": "execute_result"
    }
   ],
   "source": [
    "ny.links[:3]"
   ]
  },
  {
   "cell_type": "code",
   "execution_count": 24,
   "metadata": {},
   "outputs": [],
   "source": [
    "wikipedia.set_lang(\"es\")"
   ]
  },
  {
   "cell_type": "code",
   "execution_count": 25,
   "metadata": {},
   "outputs": [
    {
     "data": {
      "text/plain": [
       "\"Desahucio es un término utilizado en derecho y medicina. Se utiliza, a veces impropiamente para el incumplimiento de un crédito hipotecario, y más propiamente para el aviso de terminación de ciertos contratos de tracto sucesivo, tales como el arrendamiento,  por juicio de desahucio y el contrato de trabajo por desahucio libre del empleador. En medicina el término 'desahucio' remite a la consideración emitida por un profesional médico cuando la ciencia médica no tiene recursos para curar la enfermedad que padece un  paciente.[1]\\u200b[2]\\u200b[3]\\u200b\""
      ]
     },
     "execution_count": 25,
     "metadata": {},
     "output_type": "execute_result"
    }
   ],
   "source": [
    "wikipedia.summary('deshaucio')"
   ]
  },
  {
   "cell_type": "code",
   "execution_count": 26,
   "metadata": {},
   "outputs": [],
   "source": [
    "wikipedia.set_lang(\"fr\")"
   ]
  },
  {
   "cell_type": "code",
   "execution_count": 27,
   "metadata": {},
   "outputs": [
    {
     "name": "stdout",
     "output_type": "stream",
     "text": [
      "François Hollande [fʁɑ̃swa ɔlɑ̃d] , né le 12 août 1954 à Rouen (Seine-Inférieure), est un haut fonctionnaire et homme d'État français. Il est président de la République française du 15 mai 2012 au 14 mai 2017.\n",
      "Magistrat à la Cour des comptes et brièvement avocat, il est élu pour la première fois député en 1988. Il exerce la fonction de premier secrétaire du Parti socialiste (PS) de 1997 à 2008, pendant la troisième cohabitation puis dans l'opposition. Au niveau local, il est maire de Tulle de 2001 à 2008 et président du conseil général de Corrèze de 2008 à 2012.\n",
      "Il est désigné candidat du PS à l'élection présidentielle de 2012 à l'issue d'une primaire à gauche face à Martine Aubry, et élu chef de l'État face au président sortant, Nicolas Sarkozy, avec 51,6 % des suffrages exprimés au second tour.\n",
      "Sa politique économique connaît un virage social-libéral en 2014, année du « pacte de responsabilité », suivi par la loi Macron puis la loi Travail, qui provoque une contestation sociale pendant plusieurs mois. Sa présidence est également marquée par l'adoption du mariage homosexuel, la Conférence de Paris sur le climat, des interventions militaires (au Mali, en Centrafrique et au Moyen-Orient), une crise migratoire en Europe et l'institution d'un état d'urgence à la suite de plusieurs attentats islamistes en France.\n",
      "Confronté à de très faibles intentions de vote et à un risque d'échec à une nouvelle primaire à gauche, il renonce à se porter candidat à un second mandat, ce qui constitue une première sous la Cinquième République. Il se tient en retrait lors de l'élection présidentielle de 2017, n'apportant pas son soutien au candidat du Parti socialiste, Benoît Hamon. Son ancien ministre de l'Économie, Emmanuel Macron, lui succède finalement à l'Élysée.\n",
      "Après sa présidence, François Hollande ne siège pas au Conseil constitutionnel — dont il est membre de droit et à vie — et n'occupe pas de mandat ou fonction de premier plan, mais reste présent dans le débat public et la vie politique. Il préside alors la fondation La France s'engage.\n",
      "Il fait son retour en politique en 2024 en étant élu député dans la première circonscription de la Corrèze, douze ans après avoir quitté ce même siège lors de son accession à la présidence de la République.\n"
     ]
    }
   ],
   "source": [
    "print(wikipedia.summary(\"Francois Hollande\"))"
   ]
  },
  {
   "cell_type": "code",
   "execution_count": 29,
   "metadata": {},
   "outputs": [
    {
     "name": "stdout",
     "output_type": "stream",
     "text": [
      "{'aa': 'Qafár af', 'ab': 'Аҧсшәа', 'ace': 'Acèh', 'ady': 'адыгабзэ', 'ady-cyrl': 'адыгабзэ', 'aeb': 'تونسي/Tûnsî', 'aeb-arab': 'تونسي', 'aeb-latn': 'Tûnsî', 'af': 'Afrikaans', 'ak': 'Akan', 'aln': 'Gegë', 'als': 'Alemannisch', 'am': 'አማርኛ', 'an': 'aragonés', 'ang': 'Ænglisc', 'anp': 'अङ्गिका', 'ar': 'العربية', 'arc': 'ܐܪܡܝܐ', 'arn': 'mapudungun', 'arq': 'جازايرية', 'ary': 'Maġribi', 'arz': 'مصرى', 'as': 'অসমীয়া', 'ase': 'American sign language', 'ast': 'asturianu', 'atj': 'Atikamekw', 'av': 'авар', 'avk': 'Kotava', 'awa': 'अवधी', 'ay': 'Aymar aru', 'az': 'azərbaycanca', 'azb': 'تۆرکجه', 'ba': 'башҡортса', 'ban': 'Basa Bali', 'bar': 'Boarisch', 'bat-smg': 'žemaitėška', 'bbc': 'Batak Toba', 'bbc-latn': 'Batak Toba', 'bcc': 'جهلسری بلوچی', 'bcl': 'Bikol Central', 'be': 'беларуская', 'be-tarask': 'беларуская (тарашкевіца)\\u200e', 'be-x-old': 'беларуская (тарашкевіца)\\u200e', 'bg': 'български', 'bgn': 'روچ کپتین بلوچی', 'bh': 'भोजपुरी', 'bho': 'भोजपुरी', 'bi': 'Bislama', 'bjn': 'Bahasa Banjar', 'bm': 'bamanankan', 'bn': 'বাংলা', 'bo': 'བོད་ཡིག', 'bpy': 'বিষ্ণুপ্রিয়া মণিপুরী', 'bqi': 'بختیاری', 'br': 'brezhoneg', 'brh': 'Bráhuí', 'bs': 'bosanski', 'bto': 'Iriga Bicolano', 'bug': 'ᨅᨔ ᨕᨘᨁᨗ', 'bxr': 'буряад', 'ca': 'català', 'cbk-zam': 'Chavacano de Zamboanga', 'cdo': 'Mìng-dĕ̤ng-ngṳ̄', 'ce': 'нохчийн', 'ceb': 'Cebuano', 'ch': 'Chamoru', 'cho': 'Choctaw', 'chr': 'ᏣᎳᎩ', 'chy': 'Tsetsêhestâhese', 'ckb': 'کوردی', 'co': 'corsu', 'cps': 'Capiceño', 'cr': 'Nēhiyawēwin / ᓀᐦᐃᔭᐍᐏᐣ', 'crh': 'qırımtatarca', 'crh-cyrl': 'къырымтатарджа (Кирилл)\\u200e', 'crh-latn': 'qırımtatarca (Latin)\\u200e', 'cs': 'čeština', 'csb': 'kaszëbsczi', 'cu': 'словѣньскъ / ⰔⰎⰑⰂⰡⰐⰠⰔⰍⰟ', 'cv': 'Чӑвашла', 'cy': 'Cymraeg', 'da': 'dansk', 'de': 'Deutsch', 'de-at': 'Österreichisches Deutsch', 'de-ch': 'Schweizer Hochdeutsch', 'de-formal': 'Deutsch (Sie-Form)\\u200e', 'din': 'Thuɔŋjäŋ', 'diq': 'Zazaki', 'dsb': 'dolnoserbski', 'dtp': 'Dusun Bundu-liwan', 'dty': 'डोटेली', 'dv': 'ދިވެހިބަސް', 'dz': 'ཇོང་ཁ', 'ee': 'eʋegbe', 'egl': 'Emiliàn', 'el': 'Ελληνικά', 'eml': 'emiliàn e rumagnòl', 'en': 'English', 'en-ca': 'Canadian English', 'en-gb': 'British English', 'eo': 'Esperanto', 'es': 'español', 'es-formal': 'español (formal)', 'et': 'eesti', 'eu': 'euskara', 'ext': 'estremeñu', 'fa': 'فارسی', 'ff': 'Fulfulde', 'fi': 'suomi', 'fit': 'meänkieli', 'fiu-vro': 'Võro', 'fj': 'Na Vosa Vakaviti', 'fo': 'føroyskt', 'fr': 'français', 'frc': 'français cadien', 'frp': 'arpetan', 'frr': 'Nordfriisk', 'fur': 'furlan', 'fy': 'Frysk', 'ga': 'Gaeilge', 'gag': 'Gagauz', 'gan': '贛語', 'gan-hans': '赣语（简体）\\u200e', 'gan-hant': '贛語（繁體）\\u200e', 'gcr': 'kréyòl gwiyanè', 'gd': 'Gàidhlig', 'gl': 'galego', 'glk': 'گیلکی', 'gn': \"Avañe'ẽ\", 'gom': 'गोंयची कोंकणी / Gõychi Konknni', 'gom-deva': 'गोंयची कोंकणी', 'gom-latn': 'Gõychi Konknni', 'gor': 'Bahasa Hulontalo', 'got': '𐌲𐌿𐍄𐌹𐍃𐌺', 'grc': 'Ἀρχαία ἑλληνικὴ', 'gsw': 'Alemannisch', 'gu': 'ગુજરાતી', 'gv': 'Gaelg', 'ha': 'Hausa', 'hak': '客家語/Hak-kâ-ngî', 'haw': 'Hawaiʻi', 'he': 'עברית', 'hi': 'हिन्दी', 'hif': 'Fiji Hindi', 'hif-latn': 'Fiji Hindi', 'hil': 'Ilonggo', 'ho': 'Hiri Motu', 'hr': 'hrvatski', 'hrx': 'Hunsrik', 'hsb': 'hornjoserbsce', 'ht': 'Kreyòl ayisyen', 'hu': 'magyar', 'hu-formal': 'magyar (formal)', 'hy': 'Հայերեն', 'hz': 'Otsiherero', 'ia': 'interlingua', 'id': 'Bahasa Indonesia', 'ie': 'Interlingue', 'ig': 'Igbo', 'ii': 'ꆇꉙ', 'ik': 'Iñupiak', 'ike-cans': 'ᐃᓄᒃᑎᑐᑦ', 'ike-latn': 'inuktitut', 'ilo': 'Ilokano', 'inh': 'ГӀалгӀай', 'io': 'Ido', 'is': 'íslenska', 'it': 'italiano', 'iu': 'ᐃᓄᒃᑎᑐᑦ/inuktitut', 'ja': '日本語', 'jam': 'Patois', 'jbo': 'la .lojban.', 'jut': 'jysk', 'jv': 'Basa Jawa', 'ka': 'ქართული', 'kaa': 'Qaraqalpaqsha', 'kab': 'Taqbaylit', 'kbd': 'Адыгэбзэ', 'kbd-cyrl': 'Адыгэбзэ', 'kbp': 'Kabɩyɛ', 'kg': 'Kongo', 'khw': 'کھوار', 'ki': 'Gĩkũyũ', 'kiu': 'Kırmancki', 'kj': 'Kwanyama', 'kk': 'қазақша', 'kk-arab': 'قازاقشا (تٴوتە)\\u200f', 'kk-cn': 'قازاقشا (جۇنگو)\\u200f', 'kk-cyrl': 'қазақша (кирил)\\u200e', 'kk-kz': 'қазақша (Қазақстан)\\u200e', 'kk-latn': 'qazaqşa (latın)\\u200e', 'kk-tr': 'qazaqşa (Türkïya)\\u200e', 'kl': 'kalaallisut', 'km': 'ភាសាខ្មែរ', 'kn': 'ಕನ್ನಡ', 'ko': '한국어', 'ko-kp': '한국어 (조선)', 'koi': 'Перем Коми', 'kr': 'Kanuri', 'krc': 'къарачай-малкъар', 'kri': 'Krio', 'krj': 'Kinaray-a', 'krl': 'karjal', 'ks': 'कॉशुर / کٲشُر', 'ks-arab': 'کٲشُر', 'ks-deva': 'कॉशुर', 'ksh': 'Ripoarisch', 'ku': 'Kurdî', 'ku-arab': 'كوردي (عەرەبی)\\u200f', 'ku-latn': 'Kurdî (latînî)\\u200e', 'kum': 'къумукъ', 'kv': 'коми', 'kw': 'kernowek', 'ky': 'Кыргызча', 'la': 'Latina', 'lad': 'Ladino', 'lb': 'Lëtzebuergesch', 'lbe': 'лакку', 'lez': 'лезги', 'lfn': 'Lingua Franca Nova', 'lg': 'Luganda', 'li': 'Limburgs', 'lij': 'Ligure', 'liv': 'Līvõ kēļ', 'lki': 'لەکی\\u200e', 'lmo': 'lumbaart', 'ln': 'lingála', 'lo': 'ລາວ', 'loz': 'Silozi', 'lrc': 'لۊری شومالی', 'lt': 'lietuvių', 'ltg': 'latgaļu', 'lus': 'Mizo ţawng', 'luz': 'لئری دوٙمینی', 'lv': 'latviešu', 'lzh': '文言', 'lzz': 'Lazuri', 'mai': 'मैथिली', 'map-bms': 'Basa Banyumasan', 'mdf': 'мокшень', 'mg': 'Malagasy', 'mh': 'Ebon', 'mhr': 'олык марий', 'mi': 'Māori', 'min': 'Baso Minangkabau', 'mk': 'македонски', 'ml': 'മലയാളം', 'mn': 'монгол', 'mo': 'молдовеняскэ', 'mr': 'मराठी', 'mrj': 'кырык мары', 'ms': 'Bahasa Melayu', 'mt': 'Malti', 'mus': 'Mvskoke', 'mwl': 'Mirandés', 'my': 'မြန်မာဘာသာ', 'myv': 'эрзянь', 'mzn': 'مازِرونی', 'na': 'Dorerin Naoero', 'nah': 'Nāhuatl', 'nan': 'Bân-lâm-gú', 'nap': 'Napulitano', 'nb': 'norsk bokmål', 'nds': 'Plattdüütsch', 'nds-nl': 'Nedersaksies', 'ne': 'नेपाली', 'new': 'नेपाल भाषा', 'ng': 'Oshiwambo', 'niu': 'Niuē', 'nl': 'Nederlands', 'nl-informal': 'Nederlands (informeel)\\u200e', 'nn': 'norsk nynorsk', 'no': 'norsk', 'nov': 'Novial', 'nrm': 'Nouormand', 'nso': 'Sesotho sa Leboa', 'nv': 'Diné bizaad', 'ny': 'Chi-Chewa', 'nys': 'Nyunga', 'oc': 'occitan', 'olo': 'Livvinkarjala', 'om': 'Oromoo', 'or': 'ଓଡ଼ିଆ', 'os': 'Ирон', 'pa': 'ਪੰਜਾਬੀ', 'pag': 'Pangasinan', 'pam': 'Kapampangan', 'pap': 'Papiamentu', 'pcd': 'Picard', 'pdc': 'Deitsch', 'pdt': 'Plautdietsch', 'pfl': 'Pälzisch', 'pi': 'पालि', 'pih': 'Norfuk / Pitkern', 'pl': 'polski', 'pms': 'Piemontèis', 'pnb': 'پنجابی', 'pnt': 'Ποντιακά', 'prg': 'Prūsiskan', 'ps': 'پښتو', 'pt': 'português', 'pt-br': 'português do Brasil', 'qu': 'Runa Simi', 'qug': 'Runa shimi', 'rgn': 'Rumagnôl', 'rif': 'Tarifit', 'rm': 'rumantsch', 'rmy': 'Romani', 'rn': 'Kirundi', 'ro': 'română', 'roa-rup': 'armãneashti', 'roa-tara': 'tarandíne', 'ru': 'русский', 'rue': 'русиньскый', 'rup': 'armãneashti', 'ruq': 'Vlăheşte', 'ruq-cyrl': 'Влахесте', 'ruq-latn': 'Vlăheşte', 'rw': 'Kinyarwanda', 'sa': 'संस्कृतम्', 'sah': 'саха тыла', 'sat': 'Santali', 'sc': 'sardu', 'scn': 'sicilianu', 'sco': 'Scots', 'sd': 'سنڌي', 'sdc': 'Sassaresu', 'sdh': 'کوردی خوارگ', 'se': 'davvisámegiella', 'sei': 'Cmique Itom', 'ses': 'Koyraboro Senni', 'sg': 'Sängö', 'sgs': 'žemaitėška', 'sh': 'srpskohrvatski / српскохрватски', 'shi': 'Tašlḥiyt/ⵜⴰⵛⵍⵃⵉⵜ', 'shi-latn': 'Tašlḥiyt', 'shi-tfng': 'ⵜⴰⵛⵍⵃⵉⵜ', 'shn': 'ၽႃႇသႃႇတႆး ', 'si': 'සිංහල', 'simple': 'Simple English', 'sk': 'slovenčina', 'skr': 'سرائیکی', 'skr-arab': 'سرائیکی', 'sl': 'slovenščina', 'sli': 'Schläsch', 'sm': 'Gagana Samoa', 'sma': 'Åarjelsaemien', 'sn': 'chiShona', 'so': 'Soomaaliga', 'sq': 'shqip', 'sr': 'српски / srpski', 'sr-ec': 'српски (ћирилица)\\u200e', 'sr-el': 'srpski (latinica)\\u200e', 'srn': 'Sranantongo', 'ss': 'SiSwati', 'st': 'Sesotho', 'stq': 'Seeltersk', 'sty': 'cебертатар', 'su': 'Basa Sunda', 'sv': 'svenska', 'sw': 'Kiswahili', 'szl': 'ślůnski', 'ta': 'தமிழ்', 'tay': 'Tayal', 'tcy': 'ತುಳು', 'te': 'తెలుగు', 'tet': 'tetun', 'tg': 'тоҷикӣ', 'tg-cyrl': 'тоҷикӣ', 'tg-latn': 'tojikī', 'th': 'ไทย', 'ti': 'ትግርኛ', 'tk': 'Türkmençe', 'tl': 'Tagalog', 'tly': 'толышә зывон', 'tn': 'Setswana', 'to': 'lea faka-Tonga', 'tpi': 'Tok Pisin', 'tr': 'Türkçe', 'tru': 'Ṫuroyo', 'ts': 'Xitsonga', 'tt': 'татарча/tatarça', 'tt-cyrl': 'татарча', 'tt-latn': 'tatarça', 'tum': 'chiTumbuka', 'tw': 'Twi', 'ty': 'reo tahiti', 'tyv': 'тыва дыл', 'tzm': 'ⵜⴰⵎⴰⵣⵉⵖⵜ', 'udm': 'удмурт', 'ug': 'ئۇيغۇرچە / Uyghurche', 'ug-arab': 'ئۇيغۇرچە', 'ug-latn': 'Uyghurche', 'uk': 'українська', 'ur': 'اردو', 'uz': 'oʻzbekcha/ўзбекча', 'uz-cyrl': 'ўзбекча', 'uz-latn': 'oʻzbekcha', 've': 'Tshivenda', 'vec': 'vèneto', 'vep': 'vepsän kel’', 'vi': 'Tiếng Việt', 'vls': 'West-Vlams', 'vmf': 'Mainfränkisch', 'vo': 'Volapük', 'vot': 'Vaďďa', 'vro': 'Võro', 'wa': 'walon', 'war': 'Winaray', 'wo': 'Wolof', 'wuu': '吴语', 'xal': 'хальмг', 'xh': 'isiXhosa', 'xmf': 'მარგალური', 'yi': 'ייִדיש', 'yo': 'Yorùbá', 'yue': '粵語', 'za': 'Vahcuengh', 'zea': 'Zeêuws', 'zh': '中文', 'zh-classical': '文言', 'zh-cn': '中文（中国大陆）\\u200e', 'zh-hans': '中文（简体）\\u200e', 'zh-hant': '中文（繁體）\\u200e', 'zh-hk': '中文（香港）\\u200e', 'zh-min-nan': 'Bân-lâm-gú', 'zh-mo': '中文（澳門）\\u200e', 'zh-my': '中文（马来西亚）\\u200e', 'zh-sg': '中文（新加坡）\\u200e', 'zh-tw': '中文（台灣）\\u200e', 'zh-yue': '粵語', 'zu': 'isiZulu'}\n"
     ]
    }
   ],
   "source": [
    "print(wikipedia.languages())"
   ]
  },
  {
   "cell_type": "code",
   "execution_count": 40,
   "metadata": {},
   "outputs": [
    {
     "name": "stdout",
     "output_type": "stream",
     "text": [
      "Albert Einstein (prononcé en allemand [ˈalbɐt ˈaɪnʃtaɪn] ) né le 14 mars 1879 à Ulm, dans le Wurtemberg (Empire allemand), et mort le 18 avril 1955 à Princeton, dans le New Jersey (États-Unis), est un physicien théoricien. Il fut successivement allemand, apatride (entre 1896 et 1901), suisse (1901) et de double nationalité helvético-américaine (1940).\n"
     ]
    }
   ],
   "source": [
    "print(wikipedia.summary(\"Albert Einstein\", sentences=2))"
   ]
  },
  {
   "cell_type": "code",
   "execution_count": 43,
   "metadata": {},
   "outputs": [
    {
     "name": "stdout",
     "output_type": "stream",
     "text": [
      "Albert Einstein (14 March 1879 – 18 April 1955) was a German-born American scientist. He worked on theoretical physics. He developed the theory of relativity.\n"
     ]
    }
   ],
   "source": [
    "import pprint\n",
    "wikipedia.set_lang(\"simple\")\n",
    "#print(wikipedia.summary(\"Albert Einstein\"))\n",
    "print(wikipedia.summary(\"Albert Einstein\", sentences=3))"
   ]
  },
  {
   "cell_type": "code",
   "execution_count": 65,
   "metadata": {},
   "outputs": [],
   "source": [
    "wikipedia.set_lang(\"en\")"
   ]
  },
  {
   "cell_type": "code",
   "execution_count": 67,
   "metadata": {
    "scrolled": false
   },
   "outputs": [
    {
     "name": "stdout",
     "output_type": "stream",
     "text": [
      "Albert Einstein (14 March 1879 – 18 April 1955) was a German-born theoretical physicist who developed the theory of relativity, one of the two pillars of modern physics (alongside quantum mechanics). His work is also known for its influence on the philosophy of science. He is best known by the general public for his mass–energy equivalence formula E = mc2 (which has been dubbed \"the world's most famous equation\"). He received the 1921 Nobel Prize in Physics \"for his services to theoretical physics, and especially for his discovery of the law of the photoelectric effect\", a pivotal step in the evolution of quantum theory.\n",
      "Near the beginning of his career, Einstein thought that Newtonian mechanics was no longer enough to reconcile the laws of classical mechanics with the laws of the electromagnetic field. This led him to develop his special theory of relativity during his time at the Swiss Patent Office in Bern (1902–1909), Switzerland. However, he realized that the principle of relativity could also be extended to gravitational fields and—with his subsequent theory of gravitation in 1916—he published a paper on general relativity. He continued to deal with problems of statistical mechanics and quantum theory, which led to his explanations of particle theory and the motion of molecules. He also investigated the thermal properties of light which laid the foundation of the photon theory of light. In 1917, he applied the general theory of relativity to model the large-scale structure of the universe.\n",
      "Between 1895 and 1914, he lived in Switzerland (except for one year in Prague, 1911–12), where he received his academic diploma from the Swiss Federal Polytechnic in Zürich (later the Eidgenössische Technische Hochschule, ETH) in 1900. He later taught at that institute as a professor of theoretical physics between 1912 and 1914 before he left for Berlin. In 1901, after being stateless for more than five years, he acquired Swiss citizenship, which he kept for the rest of his life. In 1905, he was awarded a PhD by the University of Zürich. The same year, his annus mirabilis (miracle year), he published four groundbreaking papers, which were to bring him to the notice of the academic world, at the age of 26.\n",
      "He was visiting the United States when Adolf Hitler came to power in 1933 and—being Jewish—did not go back to Germany, where he had been a professor at the Berlin Academy of Sciences. He settled in the United States, becoming an American citizen in 1940. On the eve of World War II, he endorsed a letter to President Franklin D. Roosevelt alerting him to the potential development of \"extremely powerful bombs of a new type\" and recommending that the U.S. begin similar research. This eventually led to what would become the Manhattan Project. Einstein supported defending the Allied forces, but generally denounced the idea of using the newly discovered nuclear fission as a weapon. Later, with the British philosopher Bertrand Russell, he signed the Russell–Einstein Manifesto, which highlighted the danger of nuclear weapons. He was affiliated with the Institute for Advanced Study in Princeton, New Jersey, until his death in 1955.\n",
      "Einstein published more than 300 scientific papers along with over 150 non-scientific works. His intellectual achievements and originality have made the word \"Einstein\" synonymous with \"genius\". Eugene Wigner wrote of Einstein in comparison to his contemporaries that \"Einstein's understanding was deeper even than Jansci von Neumann's. His mind was both more penetrating and more original than von Neumann's. And that is a very remarkable statement.\"\n"
     ]
    }
   ],
   "source": [
    "print(wikipedia.summary(\"Albert Einstein\"))"
   ]
  },
  {
   "cell_type": "code",
   "execution_count": null,
   "metadata": {},
   "outputs": [],
   "source": []
  }
 ],
 "metadata": {
  "kernelspec": {
   "display_name": "Python 3 (ipykernel)",
   "language": "python",
   "name": "python3"
  },
  "language_info": {
   "codemirror_mode": {
    "name": "ipython",
    "version": 3
   },
   "file_extension": ".py",
   "mimetype": "text/x-python",
   "name": "python",
   "nbconvert_exporter": "python",
   "pygments_lexer": "ipython3",
   "version": "3.11.0"
  },
  "latex_envs": {
   "LaTeX_envs_menu_present": true,
   "autoclose": true,
   "autocomplete": true,
   "bibliofile": "biblio.bib",
   "cite_by": "apalike",
   "current_citInitial": 1,
   "eqLabelWithNumbers": true,
   "eqNumInitial": 1,
   "hotkeys": {
    "equation": "Ctrl-E",
    "itemize": "Ctrl-I"
   },
   "labels_anchors": false,
   "latex_user_defs": false,
   "report_style_numbering": false,
   "user_envs_cfg": false
  },
  "nbTranslate": {
   "displayLangs": [
    "fr",
    "en"
   ],
   "hotkey": "alt-t",
   "langInMainMenu": true,
   "sourceLang": "en",
   "targetLang": "fr",
   "useGoogleTranslate": true
  },
  "toc": {
   "base_numbering": 1,
   "nav_menu": {},
   "number_sections": true,
   "sideBar": true,
   "skip_h1_title": false,
   "title_cell": "Table of Contents",
   "title_sidebar": "Contents",
   "toc_cell": false,
   "toc_position": {},
   "toc_section_display": true,
   "toc_window_display": false
  }
 },
 "nbformat": 4,
 "nbformat_minor": 2
}
