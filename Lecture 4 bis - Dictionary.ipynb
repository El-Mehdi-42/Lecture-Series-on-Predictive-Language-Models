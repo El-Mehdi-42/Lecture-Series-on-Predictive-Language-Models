{
 "cells": [
  {
   "cell_type": "code",
   "execution_count": null,
   "metadata": {},
   "outputs": [],
   "source": [
    "import re\n",
    "import urllib.request"
   ]
  },
  {
   "cell_type": "code",
   "execution_count": null,
   "metadata": {},
   "outputs": [],
   "source": [
    "word = input(\"Please enter your word: \")\n",
    "url = \"http://www.dictionary.com/browse/\" + word\n",
    "data = urllib.request.urlopen(url).read().decode(\"utf-8\")\n",
    "print(data[:200])"
   ]
  },
  {
   "cell_type": "code",
   "execution_count": null,
   "metadata": {},
   "outputs": [],
   "source": [
    "pattern = r'<div class=\"NZKOFkdkcvYgD3lqOIJw\"><div>\\s*(.*?)\\s*</div></div>'\n",
    "matches = re.findall(pattern, data, flags=re.DOTALL)\n",
    "\n",
    "matches[:10]"
   ]
  },
  {
   "cell_type": "code",
   "execution_count": null,
   "metadata": {},
   "outputs": [],
   "source": [
    "cleaned = re.sub(r'<!--\\s*-->', '', matches[0])\n",
    "# Remove any leftover HTML tags (e.g., <a href=\"...\">, etc.)\n",
    "cleaned = re.sub(r'<[^>]+>', '', cleaned)\n",
    "cleaned = cleaned.strip()\n",
    "cleaned"
   ]
  },
  {
   "cell_type": "code",
   "execution_count": null,
   "metadata": {},
   "outputs": [],
   "source": [
    "cleaned = re.sub(r'<!--\\s*-->', '', matches[0])\n",
    "# Remove any leftover HTML tags (e.g., <a href=\"...\">, etc.)\n",
    "#cleaned = re.sub(r'<[^>]+>', '', cleaned)\n",
    "cleaned"
   ]
  },
  {
   "cell_type": "code",
   "execution_count": null,
   "metadata": {},
   "outputs": [],
   "source": [
    "definitions = []\n",
    "    for match in matches:\n",
    "        # Remove HTML comments\n",
    "        cleaned = re.sub(r'<!--\\s*-->', '', match)\n",
    "        # Remove any leftover HTML tags (e.g., <a href=\"...\">, etc.)\n",
    "        cleaned = re.sub(r'<[^>]+>', '', cleaned)\n",
    "        cleaned = cleaned.strip()"
   ]
  },
  {
   "cell_type": "markdown",
   "metadata": {},
   "source": [
    "**Breakdown of `<[^>]+>`:**\n",
    "\n",
    "- **`<`:**  \n",
    "  Matches a literal less-than character. This is the starting delimiter of an HTML tag.\n",
    "\n",
    "- **`[^>]`:**  \n",
    "  This is a character class with a caret (`^`) at the beginning, which means \"match any character except those inside the brackets.\" In this case, it matches any character that is not a greater-than sign (`>`).\n",
    "\n",
    "- **`+`:**  \n",
    "  A quantifier that means \"one or more\" of the preceding element. Here, it requires that there is at least one character that is not a `>`.\n",
    "\n",
    "- **`>`:**  \n",
    "  Matches a literal greater-than character, which is the closing delimiter of an HTML tag.\n",
    "\n",
    "**Combined Effect:**\n",
    "\n",
    "The pattern `<[^>]+>` will match:\n",
    "- A `<` character,\n",
    "- Followed by one or more characters that are not `>`,\n",
    "- And finally a `>` character.\n",
    "\n",
    "This effectively describes any substring that begins with `<` and ends with `>`, covering typical HTML tags such as `<a href=\"/browse/carnivore\">` or `</a>`.\n"
   ]
  },
  {
   "cell_type": "code",
   "execution_count": null,
   "metadata": {},
   "outputs": [],
   "source": [
    "import re\n",
    "import urllib.request\n",
    "\n",
    "def get_definitions(word, num_defs=5):\n",
    "    # Construct the URL for the word\n",
    "    url = \"http://www.dictionary.com/browse/\" + word\n",
    "    try:\n",
    "        data = urllib.request.urlopen(url).read().decode(\"utf-8\")\n",
    "    except Exception as e:\n",
    "        print(\"Error fetching the URL:\", e)\n",
    "        return []\n",
    "\n",
    "    # --- REGEX EXPLANATION ---\n",
    "    #   <div class=\"NZKOFkdkcvYgD3lqOIJw\"><div> <!-- --> ... </div></div>\n",
    "    #\n",
    "    # We attempt to capture what’s inside the inner <div>...</div>.\n",
    "    # The pattern:\n",
    "    #   <div class=\"NZKOFkdkcvYgD3lqOIJw\"><div>\\s*(.*?)\\s*</div></div>\n",
    "    #\n",
    "    # Note: The class names (like NZKOFkdkcvYgD3lqOIJw) may be dynamic.\n",
    "    pattern = r'<div class=\"NZKOFkdkcvYgD3lqOIJw\"><div>\\s*(.*?)\\s*</div></div>'\n",
    "\n",
    "    # Use DOTALL so that the dot matches newline characters as well\n",
    "    matches = re.findall(pattern, data, flags=re.DOTALL)\n",
    "\n",
    "    definitions = []\n",
    "    for match in matches:\n",
    "        # Remove HTML comments\n",
    "        cleaned = re.sub(r'<!--\\s*-->', '', match)\n",
    "        # Remove any leftover HTML tags (e.g., <a href=\"...\">, etc.)\n",
    "        cleaned = re.sub(r'<[^>]+>', '', cleaned)\n",
    "        cleaned = cleaned.strip()\n",
    "        if cleaned and cleaned not in definitions:\n",
    "            definitions.append(cleaned)\n",
    "        if len(definitions) >= num_defs:\n",
    "            break\n",
    "\n",
    "    return definitions\n",
    "\n",
    "# Ask the user for a word\n",
    "word = input(\"Please enter your word: \")\n",
    "defs = get_definitions(word)\n",
    "\n",
    "if defs:\n",
    "    print(\"\\nDefinitions for '{}' :\\n\".format(word))\n",
    "    for i, d in enumerate(defs, start=1):\n",
    "        print(f\"{i}. {d}\")\n",
    "else:\n",
    "    print(\"No definitions found. The website's structure may have changed.\")"
   ]
  },
  {
   "cell_type": "code",
   "execution_count": null,
   "metadata": {},
   "outputs": [],
   "source": [
    "def dictionary():\n",
    "    return get_definitions(str(input(\"Please enter your word: \")))"
   ]
  },
  {
   "cell_type": "code",
   "execution_count": null,
   "metadata": {},
   "outputs": [],
   "source": [
    "dictionary()"
   ]
  },
  {
   "cell_type": "code",
   "execution_count": null,
   "metadata": {},
   "outputs": [],
   "source": [
    "dictionary()"
   ]
  },
  {
   "cell_type": "code",
   "execution_count": null,
   "metadata": {},
   "outputs": [],
   "source": [
    "dictionary()"
   ]
  },
  {
   "cell_type": "code",
   "execution_count": null,
   "metadata": {},
   "outputs": [],
   "source": []
  }
 ],
 "metadata": {
  "kernelspec": {
   "display_name": "Python 3 (ipykernel)",
   "language": "python",
   "name": "python3"
  },
  "language_info": {
   "codemirror_mode": {
    "name": "ipython",
    "version": 3
   },
   "file_extension": ".py",
   "mimetype": "text/x-python",
   "name": "python",
   "nbconvert_exporter": "python",
   "pygments_lexer": "ipython3",
   "version": "3.11.0"
  },
  "latex_envs": {
   "LaTeX_envs_menu_present": true,
   "autoclose": true,
   "autocomplete": true,
   "bibliofile": "biblio.bib",
   "cite_by": "apalike",
   "current_citInitial": 1,
   "eqLabelWithNumbers": true,
   "eqNumInitial": 1,
   "hotkeys": {
    "equation": "Ctrl-E",
    "itemize": "Ctrl-I"
   },
   "labels_anchors": false,
   "latex_user_defs": false,
   "report_style_numbering": false,
   "user_envs_cfg": false
  },
  "nbTranslate": {
   "displayLangs": [
    "fr",
    "en"
   ],
   "hotkey": "alt-t",
   "langInMainMenu": true,
   "sourceLang": "en",
   "targetLang": "fr",
   "useGoogleTranslate": true
  },
  "toc": {
   "base_numbering": 1,
   "nav_menu": {},
   "number_sections": true,
   "sideBar": true,
   "skip_h1_title": false,
   "title_cell": "Table of Contents",
   "title_sidebar": "Contents",
   "toc_cell": false,
   "toc_position": {},
   "toc_section_display": true,
   "toc_window_display": false
  }
 },
 "nbformat": 4,
 "nbformat_minor": 2
}
