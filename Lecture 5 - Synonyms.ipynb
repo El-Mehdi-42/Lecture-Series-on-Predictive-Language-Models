{
 "cells": [
  {
   "cell_type": "code",
   "execution_count": null,
   "metadata": {},
   "outputs": [],
   "source": [
    "import requests\n",
    "from bs4 import BeautifulSoup\n",
    "import re\n",
    "import nltk\n",
    "from string import punctuation"
   ]
  },
  {
   "cell_type": "markdown",
   "metadata": {},
   "source": [
    "## Without beautifulsoup\n",
    "Not that easy..."
   ]
  },
  {
   "cell_type": "code",
   "execution_count": null,
   "metadata": {},
   "outputs": [],
   "source": [
    "from urllib.request import Request, urlopen\n",
    "url2 = \"https://www.synonyms.com/synonym/\"\n",
    "word = input(\"Please enter your word : \")\n",
    "url2 += word\n",
    "url2 = Request(url2, headers={'User-Agent': 'Mozilla/5.0'})\n",
    "data = urlopen(url2).read()\n",
    "data1 = data.decode(\"utf-8\")\n",
    "m1 = re.findall(r'\">(.*?)</a>', data1)\n",
    "print(set([a for a in m1 if 1<len(a)<=10 and a!=word]))"
   ]
  },
  {
   "cell_type": "code",
   "execution_count": null,
   "metadata": {},
   "outputs": [],
   "source": [
    "# ou alors\n",
    "m = re.findall(r'<a href=\"/synonym/(.*?)\">', data1)\n",
    "print(sorted(list(set([i for i in m if '+' not in i]))))"
   ]
  },
  {
   "cell_type": "markdown",
   "metadata": {},
   "source": [
    "## With BeautifulSoup"
   ]
  },
  {
   "cell_type": "code",
   "execution_count": null,
   "metadata": {},
   "outputs": [],
   "source": [
    "url = \"https://www.synonyms.com/synonym/cat\"\n",
    "data = requests.get(url)\n",
    "soup = BeautifulSoup(data.text,\"html.parser\")\n",
    "soup"
   ]
  },
  {
   "cell_type": "markdown",
   "metadata": {},
   "source": [
    "The \"403 Forbidden\" error occurs because the website (Synonyms.com) is blocking automated requests from libraries like requests. This typically happens when a website has bot protection mechanisms, such as: User-Agent Blocking, Rate Limiting, Additional Security Mechanisms.\n",
    "\n",
    "A solution to solve this is to add a Fake Browser User-Agent as a header when using requests :\n",
    "```headers = {\n",
    "    \"User-Agent\": \"Mozilla/5.0 (Windows NT 10.0; Win64; x64)\"\n",
    "}```"
   ]
  },
  {
   "cell_type": "code",
   "execution_count": null,
   "metadata": {},
   "outputs": [],
   "source": [
    "import requests\n",
    "from bs4 import BeautifulSoup\n",
    "url = \"https://www.synonyms.com/synonym/cat\"\n",
    "headers = {\"User-Agent\": \"Mozilla/5.0\"}\n",
    "data = requests.get(url, headers=headers)\n",
    "soup = BeautifulSoup(data.text, \"html.parser\")\n",
    "\n",
    "print(soup.prettify()[:1000])  # Print parsed HTML"
   ]
  },
  {
   "cell_type": "code",
   "execution_count": null,
   "metadata": {},
   "outputs": [],
   "source": [
    "for i in soup.find_all(class_=\"syns\"):\n",
    "    print(i.text)"
   ]
  },
  {
   "cell_type": "code",
   "execution_count": null,
   "metadata": {},
   "outputs": [],
   "source": [
    "# samp like samples ou examples \n",
    "for i in soup.find_all(class_=\"samp\"):\n",
    "    print(i.text)"
   ]
  },
  {
   "cell_type": "code",
   "execution_count": null,
   "metadata": {},
   "outputs": [],
   "source": [
    "# les mots possibles qui correspondent à votre recherche... Si on veut que la première liste, il faut accéder\n",
    "# aux premiers cat1 et leur nombre\n",
    "for i in soup.find_all(class_=\"term\"):\n",
    "    print(i.text)"
   ]
  },
  {
   "cell_type": "code",
   "execution_count": null,
   "metadata": {},
   "outputs": [],
   "source": [
    "# pour une petite définition du type dictionnaire\n",
    "for i in soup.find_all(class_=\"desc\"):\n",
    "    print(i.text)"
   ]
  },
  {
   "cell_type": "code",
   "execution_count": null,
   "metadata": {},
   "outputs": [],
   "source": [
    "word = input(\"Please enter your word : \")\n",
    "data = requests.get(url, headers=headers)\n",
    "number = [i.text for i in soup.find_all(class_=\"term\") if word in i.text and \"1\" in i.text]\n",
    "soup = BeautifulSoup(data.text,\"html.parser\")\n",
    "print(number, \"\\n\")\n",
    "n = len(number)\n",
    "print(n, \"\\n\")\n",
    "all_syns = [i.text for i in soup.find_all(class_=\"syns\")]\n",
    "print(all_syns, \"\\n\")\n",
    "selected_syns = all_syns[:n]\n",
    "print(selected_syns)"
   ]
  },
  {
   "cell_type": "markdown",
   "metadata": {},
   "source": [
    "# Réponse finale"
   ]
  },
  {
   "cell_type": "code",
   "execution_count": null,
   "metadata": {},
   "outputs": [],
   "source": [
    "word = input(\"Please enter your word : \")\n",
    "url = \"https://www.synonyms.com/synonym/\" + word\n",
    "data = requests.get(url, headers=headers)\n",
    "soup = BeautifulSoup(data.text,\"html.parser\")\n",
    "number = [i.text for i in soup.find_all(class_=\"term\") if word in i.text and \"1\" in i.text]\n",
    "n = len(number)\n",
    "all_syns = [i.text for i in soup.find_all(class_=\"syns\")]\n",
    "pre_selected_syns = all_syns[:n]\n",
    "selected_syns = [a[9:] for a in pre_selected_syns]\n",
    "final_selected_syns = []\n",
    "for syn in selected_syns :\n",
    "    if len(syn)>1:\n",
    "        if \",\" in syn :\n",
    "            list_syn = nltk.word_tokenize(syn)\n",
    "            final_selected_syns += list_syn\n",
    "        else :\n",
    "            final_selected_syns += syn\n",
    "\n",
    "# to remove the remaining coma after word tokenizing\n",
    "final_selected_syns = [word for word in final_selected_syns if word != ',']\n",
    "# Sorting is not necessary, it sorts alphabetically by the first letter then second and so on\n",
    "final_selected_syns = sorted(list(set(final_selected_syns)))\n",
    "print(final_selected_syns)"
   ]
  },
  {
   "cell_type": "code",
   "execution_count": null,
   "metadata": {},
   "outputs": [],
   "source": [
    "set(selected_syns).intersection(set(final_selected_syns))"
   ]
  },
  {
   "cell_type": "code",
   "execution_count": null,
   "metadata": {},
   "outputs": [],
   "source": [
    "# Sous forme de fonction\n",
    "def synonym():\n",
    "    word = input(\"Please enter your word : \")\n",
    "    url = \"https://www.synonyms.com/synonym/\" + word\n",
    "    data = requests.get(url, headers=headers)\n",
    "    soup = BeautifulSoup(data.text,\"html.parser\")\n",
    "    number = [i.text for i in soup.find_all(class_=\"term\") if word in i.text and \"1\" in i.text]\n",
    "    if number != []:\n",
    "        n = len(number)\n",
    "        all_syns = [i.text for i in soup.find_all(class_=\"syns\")]\n",
    "        pre_selected_syns = all_syns[:n]\n",
    "        selected_syns = [a[9:] for a in pre_selected_syns]\n",
    "        final_selected_syns = []\n",
    "        for syn in selected_syns :\n",
    "            if \",\" in syn :\n",
    "                list_syn = nltk.word_tokenize(syn)\n",
    "                final_selected_syns += list_syn\n",
    "            else :\n",
    "                final_selected_syns += syn\n",
    "\n",
    "        final_selected_syns = list(set(final_selected_syns))\n",
    "    else :\n",
    "        all_syns = [i.text for i in soup.find_all(class_=\"syns\")]\n",
    "        selected_syns = [a[9:] for a in all_syns]\n",
    "        final_selected_syns = []\n",
    "        for syn in selected_syns :\n",
    "            if \",\" in syn :\n",
    "                list_syn = nltk.word_tokenize(syn)\n",
    "                final_selected_syns += list_syn\n",
    "            else :\n",
    "                final_selected_syns += syn\n",
    "    final_selected_syns = set([w for w in final_selected_syns if w not in punctuation and len(w)>1])\n",
    "    final_selected_syns = sorted([word for word in final_selected_syns if word != ','])\n",
    "    return final_selected_syns\n",
    "\n",
    "print(synonym())"
   ]
  },
  {
   "cell_type": "code",
   "execution_count": null,
   "metadata": {},
   "outputs": [],
   "source": [
    "print(synonym())"
   ]
  },
  {
   "cell_type": "code",
   "execution_count": null,
   "metadata": {},
   "outputs": [],
   "source": [
    "print(synonym())"
   ]
  },
  {
   "cell_type": "code",
   "execution_count": null,
   "metadata": {},
   "outputs": [],
   "source": []
  }
 ],
 "metadata": {
  "kernelspec": {
   "display_name": "Python 3 (ipykernel)",
   "language": "python",
   "name": "python3"
  },
  "language_info": {
   "codemirror_mode": {
    "name": "ipython",
    "version": 3
   },
   "file_extension": ".py",
   "mimetype": "text/x-python",
   "name": "python",
   "nbconvert_exporter": "python",
   "pygments_lexer": "ipython3",
   "version": "3.11.0"
  },
  "latex_envs": {
   "LaTeX_envs_menu_present": true,
   "autoclose": true,
   "autocomplete": true,
   "bibliofile": "biblio.bib",
   "cite_by": "apalike",
   "current_citInitial": 1,
   "eqLabelWithNumbers": true,
   "eqNumInitial": 1,
   "hotkeys": {
    "equation": "Ctrl-E",
    "itemize": "Ctrl-I"
   },
   "labels_anchors": false,
   "latex_user_defs": false,
   "report_style_numbering": false,
   "user_envs_cfg": false
  }
 },
 "nbformat": 4,
 "nbformat_minor": 2
}
